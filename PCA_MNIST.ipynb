{
 "cells": [
  {
   "cell_type": "markdown",
   "metadata": {},
   "source": [
    "# PCA on MNIST dataset"
   ]
  },
  {
   "cell_type": "code",
   "execution_count": 28,
   "metadata": {},
   "outputs": [],
   "source": [
    "import tensorflow as tf\n",
    "import pandas as pd \n",
    "import matplotlib.pyplot as plt\n",
    "import numpy as np\n",
    "from tensorflow import keras\n",
    "from tensorflow.keras import layers\n",
    "from sklearn.decomposition import PCA as SKPCA"
   ]
  },
  {
   "cell_type": "markdown",
   "metadata": {},
   "source": [
    "### Load Data"
   ]
  },
  {
   "cell_type": "code",
   "execution_count": 29,
   "metadata": {},
   "outputs": [
    {
     "name": "stdout",
     "output_type": "stream",
     "text": [
      "X_train: (60000, 28, 28)\n",
      "Y_train: (60000,)\n",
      "X_test: (10000, 28, 28)\n",
      "Y_test: (10000,)\n"
     ]
    }
   ],
   "source": [
    "(X_train, Y_train), (X_test, Y_test) = tf.keras.datasets.mnist.load_data()\n",
    "print(\"X_train: \" + str(X_train.shape))\n",
    "print(\"Y_train: \" + str(Y_train.shape))\n",
    "print(\"X_test: \" + str(X_test.shape))\n",
    "print(\"Y_test: \" + str(Y_test.shape))"
   ]
  },
  {
   "cell_type": "markdown",
   "metadata": {},
   "source": [
    "### Reshape"
   ]
  },
  {
   "cell_type": "code",
   "execution_count": 30,
   "metadata": {},
   "outputs": [
    {
     "name": "stdout",
     "output_type": "stream",
     "text": [
      "X_train: (60000, 784)\n",
      "Y_train: (60000,)\n",
      "X_test: (10000, 784)\n",
      "Y_test: (10000,)\n"
     ]
    }
   ],
   "source": [
    "X_train = X_train.reshape(X_train.shape[0], 784)\n",
    "X_test = X_test.reshape(X_test.shape[0], 784)\n",
    "\n",
    "print(\"X_train: \" + str(X_train.shape))\n",
    "print(\"Y_train: \" + str(Y_train.shape))\n",
    "print(\"X_test: \" + str(X_test.shape))\n",
    "print(\"Y_test: \" + str(Y_test.shape))\n"
   ]
  },
  {
   "cell_type": "markdown",
   "metadata": {},
   "source": [
    "### Normalize"
   ]
  },
  {
   "cell_type": "code",
   "execution_count": 31,
   "metadata": {},
   "outputs": [],
   "source": [
    "mu = np.mean(X_train, axis=0)\n",
    "std = np.std(X_train, axis=0)\n",
    "std_filled = std.copy()\n",
    "std_filled[std==0] = 1.\n",
    "\n",
    "X_train = (X_train - mu)/std_filled \n",
    "X_test =  (X_test - mu)/std_filled \n",
    "Y_train = Y_train.astype(np.int32)\n",
    "Y_test = Y_test.astype(np.int32)\n"
   ]
  },
  {
   "cell_type": "markdown",
   "metadata": {},
   "source": [
    "### One-hot representation"
   ]
  },
  {
   "cell_type": "code",
   "execution_count": 32,
   "metadata": {},
   "outputs": [],
   "source": [
    "Y_train = tf.keras.utils.to_categorical(Y_train, 10)\n",
    "Y_test = tf.keras.utils.to_categorical(Y_test, 10)"
   ]
  },
  {
   "cell_type": "markdown",
   "metadata": {},
   "source": [
    "In case of memory allocation issues, use a subset of trainig data"
   ]
  },
  {
   "cell_type": "code",
   "execution_count": 33,
   "metadata": {},
   "outputs": [
    {
     "name": "stdout",
     "output_type": "stream",
     "text": [
      "X: (60000, 784)\n",
      "Y: (60000, 10)\n"
     ]
    }
   ],
   "source": [
    "X = X_train[0:60000,:]\n",
    "Y = Y_train[0:60000,:]\n",
    "\n",
    "print(\"X: \" + str(X.shape))\n",
    "print(\"Y: \" + str(Y.shape))"
   ]
  },
  {
   "cell_type": "code",
   "execution_count": 34,
   "metadata": {},
   "outputs": [],
   "source": [
    "def show_sample(X, Y, index):\n",
    "\timage = np.reshape(X[index], (28, 28))\n",
    "\tlabels = Y[index]\n",
    "\tprint (\"Number: \" + str(np.argmax(labels)))\n",
    "\tplt.imshow(image)\n",
    "\tplt.show()"
   ]
  },
  {
   "cell_type": "code",
   "execution_count": 35,
   "metadata": {},
   "outputs": [
    {
     "name": "stdout",
     "output_type": "stream",
     "text": [
      "Number: 3\n"
     ]
    },
    {
     "data": {
      "image/png": "[encoded data removed]",
      "text/plain": [
       "<Figure size 432x288 with 1 Axes>"
      ]
     },
     "metadata": {
      "needs_background": "light"
     },
     "output_type": "display_data"
    }
   ],
   "source": [
    "show_sample(X, Y, 12)"
   ]
  },
  {
   "cell_type": "markdown",
   "metadata": {},
   "source": [
    "### Compute the Covariance Matrix"
   ]
  },
  {
   "cell_type": "code",
   "execution_count": 36,
   "metadata": {},
   "outputs": [
    {
     "name": "stdout",
     "output_type": "stream",
     "text": [
      "Covariance Matrix: (784, 784)\n"
     ]
    }
   ],
   "source": [
    "S = np.cov(X, rowvar=False, bias=True)\n",
    "print(\"Covariance Matrix: \" + str(S.shape))"
   ]
  },
  {
   "cell_type": "markdown",
   "metadata": {},
   "source": [
    "### Compute Eigenvalues and Eigenvectors from Covariance Matrix"
   ]
  },
  {
   "cell_type": "code",
   "execution_count": 37,
   "metadata": {},
   "outputs": [],
   "source": [
    "eigenvalues, eigenvectors = np.linalg.eigh(S)"
   ]
  },
  {
   "cell_type": "code",
   "execution_count": 38,
   "metadata": {},
   "outputs": [
    {
     "name": "stdout",
     "output_type": "stream",
     "text": [
      "eigenvalues: (784,)\n",
      "eigenvectors: (784, 784)\n"
     ]
    }
   ],
   "source": [
    "print(\"eigenvalues: \" + str(eigenvalues.shape))\n",
    "print(\"eigenvectors: \" + str(eigenvectors.shape))"
   ]
  },
  {
   "cell_type": "markdown",
   "metadata": {},
   "source": [
    "### Sort Eigenvalues and Eigenvectors descending"
   ]
  },
  {
   "cell_type": "code",
   "execution_count": 39,
   "metadata": {},
   "outputs": [],
   "source": [
    "idx = eigenvalues.argsort()[::-1]\n",
    "eigenvalues = eigenvalues[idx]\n",
    "eigenvectors = eigenvectors[:,idx]"
   ]
  },
  {
   "cell_type": "markdown",
   "metadata": {},
   "source": [
    "### Top 5 Eigenvalues"
   ]
  },
  {
   "cell_type": "code",
   "execution_count": 40,
   "metadata": {},
   "outputs": [
    {
     "data": {
      "text/plain": [
       "array([40.48696031, 29.24121016, 26.81135762, 20.68627344, 18.07634885])"
      ]
     },
     "execution_count": 40,
     "metadata": {},
     "output_type": "execute_result"
    }
   ],
   "source": [
    "eigenvalues[0:5]"
   ]
  },
  {
   "cell_type": "markdown",
   "metadata": {},
   "source": [
    "### Take Principal Components"
   ]
  },
  {
   "cell_type": "code",
   "execution_count": 41,
   "metadata": {},
   "outputs": [
    {
     "name": "stdout",
     "output_type": "stream",
     "text": [
      "B: (784, 20)\n"
     ]
    }
   ],
   "source": [
    "num_components = 20\n",
    "B = eigenvectors[:,:num_components] # futures vector\n",
    "print(\"B: \" + str(B.shape))\n"
   ]
  },
  {
   "cell_type": "markdown",
   "metadata": {},
   "source": [
    "### Reduced data"
   ]
  },
  {
   "cell_type": "code",
   "execution_count": 42,
   "metadata": {},
   "outputs": [
    {
     "name": "stdout",
     "output_type": "stream",
     "text": [
      "X_reduced: (60000, 20)\n"
     ]
    }
   ],
   "source": [
    "X_reduced = X@B\n",
    "print(\"X_reduced: \" + str(X_reduced.shape))\n"
   ]
  },
  {
   "cell_type": "markdown",
   "metadata": {},
   "source": [
    "### Compute the projection matrix"
   ]
  },
  {
   "cell_type": "code",
   "execution_count": 43,
   "metadata": {},
   "outputs": [
    {
     "name": "stdout",
     "output_type": "stream",
     "text": [
      "P: (784, 784)\n"
     ]
    }
   ],
   "source": [
    "P = B@(np.linalg.inv(B.T@B))@B.T\n",
    "print(\"P: \" + str(P.shape))"
   ]
  },
  {
   "cell_type": "markdown",
   "metadata": {},
   "source": [
    "### Reconstruct the data"
   ]
  },
  {
   "cell_type": "code",
   "execution_count": 44,
   "metadata": {},
   "outputs": [
    {
     "name": "stdout",
     "output_type": "stream",
     "text": [
      "X_reconstructed: (60000, 784)\n"
     ]
    }
   ],
   "source": [
    "X_reconstructed = (P@X.T).T\n",
    "print(\"X_reconstructed: \" + str(X_reconstructed.shape))"
   ]
  },
  {
   "cell_type": "code",
   "execution_count": 45,
   "metadata": {},
   "outputs": [
    {
     "name": "stdout",
     "output_type": "stream",
     "text": [
      "Number: 3\n"
     ]
    },
    {
     "data": {
      "image/png": "[encoded data removed]",
      "text/plain": [
       "<Figure size 432x288 with 1 Axes>"
      ]
     },
     "metadata": {
      "needs_background": "light"
     },
     "output_type": "display_data"
    }
   ],
   "source": [
    "show_sample(X_reconstructed, Y, 12)"
   ]
  },
  {
   "cell_type": "markdown",
   "metadata": {},
   "source": [
    "### PCA using sklearn"
   ]
  },
  {
   "cell_type": "code",
   "execution_count": 46,
   "metadata": {},
   "outputs": [
    {
     "name": "stdout",
     "output_type": "stream",
     "text": [
      "sklearn_reduced: (60000, 20)\n",
      "sklearn_reconst: (60000, 784)\n"
     ]
    }
   ],
   "source": [
    "\n",
    "pca = SKPCA(n_components=num_components, svd_solver='full')\n",
    "sklearn_reduced = pca.fit_transform(X)\n",
    "sklearn_reconst = pca.inverse_transform(sklearn_reduced)\n",
    "print(\"sklearn_reduced: \" + str(sklearn_reduced.shape))\n",
    "print(\"sklearn_reconst: \" + str(sklearn_reconst.shape))\n",
    "#np.testing.assert_almost_equal(sklearn_reconst, X_reconstructed)\n"
   ]
  },
  {
   "cell_type": "code",
   "execution_count": 47,
   "metadata": {},
   "outputs": [
    {
     "name": "stdout",
     "output_type": "stream",
     "text": [
      "Number: 3\n"
     ]
    },
    {
     "data": {
      "image/png": "[encoded data removed]",
      "text/plain": [
       "<Figure size 432x288 with 1 Axes>"
      ]
     },
     "metadata": {
      "needs_background": "light"
     },
     "output_type": "display_data"
    }
   ],
   "source": [
    "show_sample(sklearn_reconst, Y, 12)"
   ]
  },
  {
   "cell_type": "markdown",
   "metadata": {},
   "source": [
    "### Create the Model"
   ]
  },
  {
   "cell_type": "code",
   "execution_count": 48,
   "metadata": {},
   "outputs": [],
   "source": [
    "def create_model(features, classes):\n",
    "    model = keras.Sequential()\n",
    "    model.add(keras.Input(shape=(features, ), name='input'))\n",
    "    model.add(keras.layers.Dense(32, activation='relu', name='h1'))\n",
    "    model.add(keras.layers.Dense(32, activation='relu', name='h2'))\n",
    "    model.add(keras.layers.Dense(classes, activation='softmax', name='output'))\n",
    "\n",
    "    return model\n"
   ]
  },
  {
   "cell_type": "code",
   "execution_count": 49,
   "metadata": {},
   "outputs": [
    {
     "name": "stdout",
     "output_type": "stream",
     "text": [
      "Model: \"sequential_1\"\n",
      "_________________________________________________________________\n",
      " Layer (type)                Output Shape              Param #   \n",
      "=================================================================\n",
      " h1 (Dense)                  (None, 32)                672       \n",
      "                                                                 \n",
      " h2 (Dense)                  (None, 32)                1056      \n",
      "                                                                 \n",
      " output (Dense)              (None, 10)                330       \n",
      "                                                                 \n",
      "=================================================================\n",
      "Total params: 2,058\n",
      "Trainable params: 2,058\n",
      "Non-trainable params: 0\n",
      "_________________________________________________________________\n"
     ]
    }
   ],
   "source": [
    "model = create_model(num_components, 10)\n",
    "model.summary()"
   ]
  },
  {
   "cell_type": "markdown",
   "metadata": {},
   "source": [
    "### Train the Model"
   ]
  },
  {
   "cell_type": "code",
   "execution_count": 50,
   "metadata": {},
   "outputs": [
    {
     "name": "stdout",
     "output_type": "stream",
     "text": [
      "Epoch 1/50\n",
      "375/375 [==============================] - 3s 5ms/step - loss: 0.7403 - accuracy: 0.7685 - val_loss: 0.3506 - val_accuracy: 0.8895\n",
      "Epoch 2/50\n",
      "375/375 [==============================] - 2s 4ms/step - loss: 0.3262 - accuracy: 0.8982 - val_loss: 0.2761 - val_accuracy: 0.9117\n",
      "Epoch 3/50\n",
      "375/375 [==============================] - 2s 4ms/step - loss: 0.2694 - accuracy: 0.9161 - val_loss: 0.2383 - val_accuracy: 0.9245\n",
      "Epoch 4/50\n",
      "375/375 [==============================] - 2s 4ms/step - loss: 0.2397 - accuracy: 0.9253 - val_loss: 0.2189 - val_accuracy: 0.9287\n",
      "Epoch 5/50\n",
      "375/375 [==============================] - 2s 4ms/step - loss: 0.2209 - accuracy: 0.9316 - val_loss: 0.2066 - val_accuracy: 0.9333\n",
      "Epoch 6/50\n",
      "375/375 [==============================] - 2s 4ms/step - loss: 0.2074 - accuracy: 0.9354 - val_loss: 0.1961 - val_accuracy: 0.9362\n",
      "Epoch 7/50\n",
      "375/375 [==============================] - 2s 4ms/step - loss: 0.1967 - accuracy: 0.9380 - val_loss: 0.1926 - val_accuracy: 0.9388\n",
      "Epoch 8/50\n",
      "375/375 [==============================] - 2s 4ms/step - loss: 0.1887 - accuracy: 0.9416 - val_loss: 0.1851 - val_accuracy: 0.9412\n",
      "Epoch 9/50\n",
      "375/375 [==============================] - 2s 4ms/step - loss: 0.1815 - accuracy: 0.9433 - val_loss: 0.1793 - val_accuracy: 0.9426\n",
      "Epoch 10/50\n",
      "375/375 [==============================] - 2s 4ms/step - loss: 0.1759 - accuracy: 0.9441 - val_loss: 0.1761 - val_accuracy: 0.9448\n",
      "Epoch 11/50\n",
      "375/375 [==============================] - 2s 4ms/step - loss: 0.1710 - accuracy: 0.9457 - val_loss: 0.1735 - val_accuracy: 0.9453\n",
      "Epoch 12/50\n",
      "375/375 [==============================] - 2s 4ms/step - loss: 0.1671 - accuracy: 0.9466 - val_loss: 0.1710 - val_accuracy: 0.9437\n",
      "Epoch 13/50\n",
      "375/375 [==============================] - 2s 4ms/step - loss: 0.1619 - accuracy: 0.9483 - val_loss: 0.1686 - val_accuracy: 0.9467\n",
      "Epoch 14/50\n",
      "375/375 [==============================] - 2s 4ms/step - loss: 0.1593 - accuracy: 0.9493 - val_loss: 0.1659 - val_accuracy: 0.9469\n",
      "Epoch 15/50\n",
      "375/375 [==============================] - 2s 4ms/step - loss: 0.1554 - accuracy: 0.9515 - val_loss: 0.1627 - val_accuracy: 0.9481\n",
      "Epoch 16/50\n",
      "375/375 [==============================] - 2s 4ms/step - loss: 0.1529 - accuracy: 0.9517 - val_loss: 0.1612 - val_accuracy: 0.9495\n",
      "Epoch 17/50\n",
      "375/375 [==============================] - 2s 4ms/step - loss: 0.1502 - accuracy: 0.9525 - val_loss: 0.1633 - val_accuracy: 0.9483\n",
      "Epoch 18/50\n",
      "375/375 [==============================] - 2s 4ms/step - loss: 0.1478 - accuracy: 0.9532 - val_loss: 0.1654 - val_accuracy: 0.9473\n",
      "Epoch 19/50\n",
      "375/375 [==============================] - 2s 4ms/step - loss: 0.1457 - accuracy: 0.9538 - val_loss: 0.1643 - val_accuracy: 0.9484\n",
      "Epoch 20/50\n",
      "375/375 [==============================] - 2s 4ms/step - loss: 0.1434 - accuracy: 0.9547 - val_loss: 0.1629 - val_accuracy: 0.9487\n",
      "Epoch 21/50\n",
      "375/375 [==============================] - 2s 4ms/step - loss: 0.1422 - accuracy: 0.9547 - val_loss: 0.1577 - val_accuracy: 0.9505\n",
      "Epoch 22/50\n",
      "375/375 [==============================] - 2s 4ms/step - loss: 0.1402 - accuracy: 0.9554 - val_loss: 0.1645 - val_accuracy: 0.9477\n",
      "Epoch 23/50\n",
      "375/375 [==============================] - 2s 4ms/step - loss: 0.1394 - accuracy: 0.9560 - val_loss: 0.1602 - val_accuracy: 0.9492\n",
      "Epoch 24/50\n",
      "375/375 [==============================] - 2s 4ms/step - loss: 0.1377 - accuracy: 0.9561 - val_loss: 0.1606 - val_accuracy: 0.9502\n",
      "Epoch 25/50\n",
      "375/375 [==============================] - 2s 4ms/step - loss: 0.1354 - accuracy: 0.9573 - val_loss: 0.1583 - val_accuracy: 0.9510\n",
      "Epoch 26/50\n",
      "375/375 [==============================] - 2s 4ms/step - loss: 0.1347 - accuracy: 0.9575 - val_loss: 0.1553 - val_accuracy: 0.9528\n",
      "Epoch 27/50\n",
      "375/375 [==============================] - 2s 4ms/step - loss: 0.1333 - accuracy: 0.9578 - val_loss: 0.1587 - val_accuracy: 0.9511\n",
      "Epoch 28/50\n",
      "375/375 [==============================] - 2s 4ms/step - loss: 0.1319 - accuracy: 0.9576 - val_loss: 0.1566 - val_accuracy: 0.9511\n",
      "Epoch 29/50\n",
      "375/375 [==============================] - 2s 4ms/step - loss: 0.1309 - accuracy: 0.9588 - val_loss: 0.1569 - val_accuracy: 0.9513\n",
      "Epoch 30/50\n",
      "375/375 [==============================] - 2s 4ms/step - loss: 0.1299 - accuracy: 0.9596 - val_loss: 0.1555 - val_accuracy: 0.9516\n",
      "Epoch 31/50\n",
      "375/375 [==============================] - 2s 4ms/step - loss: 0.1283 - accuracy: 0.9595 - val_loss: 0.1576 - val_accuracy: 0.9520\n",
      "Epoch 32/50\n",
      "375/375 [==============================] - 2s 5ms/step - loss: 0.1276 - accuracy: 0.9598 - val_loss: 0.1584 - val_accuracy: 0.9516\n",
      "Epoch 33/50\n",
      "375/375 [==============================] - 2s 5ms/step - loss: 0.1265 - accuracy: 0.9605 - val_loss: 0.1551 - val_accuracy: 0.9523\n",
      "Epoch 34/50\n",
      "375/375 [==============================] - 2s 5ms/step - loss: 0.1259 - accuracy: 0.9602 - val_loss: 0.1541 - val_accuracy: 0.9523\n",
      "Epoch 35/50\n",
      "375/375 [==============================] - 2s 5ms/step - loss: 0.1250 - accuracy: 0.9610 - val_loss: 0.1551 - val_accuracy: 0.9528\n",
      "Epoch 36/50\n",
      "375/375 [==============================] - 2s 4ms/step - loss: 0.1243 - accuracy: 0.9610 - val_loss: 0.1578 - val_accuracy: 0.9518\n",
      "Epoch 37/50\n",
      "375/375 [==============================] - 2s 4ms/step - loss: 0.1232 - accuracy: 0.9609 - val_loss: 0.1548 - val_accuracy: 0.9526\n",
      "Epoch 38/50\n",
      "375/375 [==============================] - 2s 4ms/step - loss: 0.1223 - accuracy: 0.9614 - val_loss: 0.1557 - val_accuracy: 0.9529\n",
      "Epoch 39/50\n",
      "375/375 [==============================] - 2s 4ms/step - loss: 0.1218 - accuracy: 0.9611 - val_loss: 0.1540 - val_accuracy: 0.9539\n",
      "Epoch 40/50\n",
      "375/375 [==============================] - 2s 4ms/step - loss: 0.1212 - accuracy: 0.9618 - val_loss: 0.1529 - val_accuracy: 0.9531\n",
      "Epoch 41/50\n",
      "375/375 [==============================] - 2s 4ms/step - loss: 0.1207 - accuracy: 0.9619 - val_loss: 0.1581 - val_accuracy: 0.9517\n",
      "Epoch 42/50\n",
      "375/375 [==============================] - 2s 4ms/step - loss: 0.1199 - accuracy: 0.9622 - val_loss: 0.1558 - val_accuracy: 0.9537\n",
      "Epoch 43/50\n",
      "375/375 [==============================] - 2s 4ms/step - loss: 0.1198 - accuracy: 0.9622 - val_loss: 0.1572 - val_accuracy: 0.9523\n",
      "Epoch 44/50\n",
      "375/375 [==============================] - 2s 4ms/step - loss: 0.1188 - accuracy: 0.9627 - val_loss: 0.1572 - val_accuracy: 0.9512\n",
      "Epoch 45/50\n",
      "375/375 [==============================] - 2s 4ms/step - loss: 0.1179 - accuracy: 0.9628 - val_loss: 0.1561 - val_accuracy: 0.9535\n",
      "Epoch 46/50\n",
      "375/375 [==============================] - 2s 4ms/step - loss: 0.1180 - accuracy: 0.9622 - val_loss: 0.1532 - val_accuracy: 0.9553\n",
      "Epoch 47/50\n",
      "375/375 [==============================] - 2s 4ms/step - loss: 0.1175 - accuracy: 0.9627 - val_loss: 0.1601 - val_accuracy: 0.9521\n",
      "Epoch 48/50\n",
      "375/375 [==============================] - 2s 4ms/step - loss: 0.1163 - accuracy: 0.9632 - val_loss: 0.1586 - val_accuracy: 0.9522\n",
      "Epoch 49/50\n",
      "375/375 [==============================] - 2s 4ms/step - loss: 0.1160 - accuracy: 0.9638 - val_loss: 0.1558 - val_accuracy: 0.9537\n",
      "Epoch 50/50\n",
      "375/375 [==============================] - 2s 4ms/step - loss: 0.1149 - accuracy: 0.9636 - val_loss: 0.1573 - val_accuracy: 0.9530\n"
     ]
    }
   ],
   "source": [
    "model.compile(\n",
    "    loss='categorical_crossentropy',\n",
    "    optimizer = tf.keras.optimizers.RMSprop(),\n",
    "    metrics=['accuracy']\n",
    ")\n",
    "\n",
    "history = model.fit(\n",
    "    X_reduced, \n",
    "    Y, \n",
    "    batch_size=128, \n",
    "    epochs=50, \n",
    "    validation_split=0.2, \n",
    "    verbose=1)"
   ]
  },
  {
   "cell_type": "markdown",
   "metadata": {},
   "source": [
    "### Plot"
   ]
  },
  {
   "cell_type": "code",
   "execution_count": 51,
   "metadata": {},
   "outputs": [
    {
     "data": {
      "image/png": "[encoded data removed]",
      "text/plain": [
       "<Figure size 432x288 with 1 Axes>"
      ]
     },
     "metadata": {
      "needs_background": "light"
     },
     "output_type": "display_data"
    },
    {
     "data": {
      "image/png": "[encoded data removed]",
      "text/plain": [
       "<Figure size 432x288 with 1 Axes>"
      ]
     },
     "metadata": {
      "needs_background": "light"
     },
     "output_type": "display_data"
    }
   ],
   "source": [
    "plt.plot(history.history['accuracy'],label='training accuracy')\n",
    "plt.plot(history.history['val_accuracy'],label='validation accuracy')\n",
    "plt.xlabel('epochs')\n",
    "plt.ylabel('accuracy')\n",
    "plt.legend()\n",
    "plt.show()\n",
    "\n",
    "plt.plot(history.history['loss'],label='training loss')\n",
    "plt.plot(history.history['val_loss'],label='validation loss')\n",
    "plt.xlabel('epochs')\n",
    "plt.ylabel('loss')\n",
    "plt.legend()\n",
    "plt.show()"
   ]
  },
  {
   "cell_type": "markdown",
   "metadata": {},
   "source": [
    "### Evaluate"
   ]
  },
  {
   "cell_type": "code",
   "execution_count": 52,
   "metadata": {},
   "outputs": [
    {
     "name": "stdout",
     "output_type": "stream",
     "text": [
      "79/79 [==============================] - 0s 3ms/step - loss: 0.1656 - accuracy: 0.9508\n",
      "Test score:  0.16558486223220825\n",
      "Test accuracy:  0.9508000016212463\n"
     ]
    }
   ],
   "source": [
    "X_test_reduced = X_test@B\n",
    "score = model.evaluate(X_test_reduced, Y_test, batch_size=128, verbose=1)\n",
    "\n",
    "print(\"Test score: \", score[0])\n",
    "print(\"Test accuracy: \", score[1])"
   ]
  },
  {
   "cell_type": "markdown",
   "metadata": {},
   "source": [
    "### Make a prediction"
   ]
  },
  {
   "cell_type": "code",
   "execution_count": 53,
   "metadata": {},
   "outputs": [
    {
     "name": "stdout",
     "output_type": "stream",
     "text": [
      "Prediction:  9\n",
      "Expected:  9\n"
     ]
    }
   ],
   "source": [
    "index = 454\n",
    "test = np.reshape(X_test_reduced[index], (1, num_components))\n",
    "prediction = model.predict(test)\n",
    "expected = Y_test[index]\n",
    "\n",
    "print(\"Prediction: \", np.argmax(prediction))\n",
    "print(\"Expected: \", np.argmax(expected))"
   ]
  }
 ],
 "metadata": {
  "interpreter": {
   "hash": "1c48d435e47ba5d5a932a530ddeb248c9baa0081132f1819dcaeedbf0fcd2e46"
  },
  "kernelspec": {
   "display_name": "",
   "language": "python",
   "name": "python3"
  },
  "language_info": {
   "codemirror_mode": {
    "name": "ipython",
    "version": 3
   },
   "file_extension": ".py",
   "mimetype": "text/x-python",
   "name": "python",
   "nbconvert_exporter": "python",
   "pygments_lexer": "ipython3",
   "version": "3.8.10"
  },
  "orig_nbformat": 4
 },
 "nbformat": 4,
 "nbformat_minor": 2
}
