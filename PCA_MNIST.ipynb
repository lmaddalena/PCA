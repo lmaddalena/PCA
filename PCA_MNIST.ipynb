{
 "cells": [
  {
   "cell_type": "markdown",
   "metadata": {},
   "source": [
    "# PCA on MNIST dataset"
   ]
  },
  {
   "cell_type": "code",
   "execution_count": 1,
   "metadata": {},
   "outputs": [],
   "source": [
    "import tensorflow as tf\n",
    "import pandas as pd \n",
    "import matplotlib.pyplot as plt\n",
    "import numpy as np\n",
    "from tensorflow import keras\n",
    "from tensorflow.keras import layers\n",
    "from sklearn.decomposition import PCA as SKPCA"
   ]
  },
  {
   "cell_type": "markdown",
   "metadata": {},
   "source": [
    "### Load Data"
   ]
  },
  {
   "cell_type": "code",
   "execution_count": 2,
   "metadata": {},
   "outputs": [
    {
     "name": "stdout",
     "output_type": "stream",
     "text": [
      "X_train: (60000, 28, 28)\n",
      "Y_train: (60000,)\n",
      "X_test: (10000, 28, 28)\n",
      "Y_test: (10000,)\n"
     ]
    }
   ],
   "source": [
    "(X_train, Y_train), (X_test, Y_test) = tf.keras.datasets.mnist.load_data()\n",
    "print(\"X_train: \" + str(X_train.shape))\n",
    "print(\"Y_train: \" + str(Y_train.shape))\n",
    "print(\"X_test: \" + str(X_test.shape))\n",
    "print(\"Y_test: \" + str(Y_test.shape))"
   ]
  },
  {
   "cell_type": "markdown",
   "metadata": {},
   "source": [
    "### Reshape"
   ]
  },
  {
   "cell_type": "code",
   "execution_count": 3,
   "metadata": {},
   "outputs": [
    {
     "name": "stdout",
     "output_type": "stream",
     "text": [
      "X_train: (60000, 784)\n",
      "Y_train: (60000,)\n",
      "X_test: (10000, 784)\n",
      "Y_test: (10000,)\n"
     ]
    }
   ],
   "source": [
    "X_train = X_train.reshape(X_train.shape[0], 784)\n",
    "X_test = X_test.reshape(X_test.shape[0], 784)\n",
    "\n",
    "print(\"X_train: \" + str(X_train.shape))\n",
    "print(\"Y_train: \" + str(Y_train.shape))\n",
    "print(\"X_test: \" + str(X_test.shape))\n",
    "print(\"Y_test: \" + str(Y_test.shape))\n"
   ]
  },
  {
   "cell_type": "markdown",
   "metadata": {},
   "source": [
    "### Normalize"
   ]
  },
  {
   "cell_type": "code",
   "execution_count": 4,
   "metadata": {},
   "outputs": [],
   "source": [
    "mu = np.mean(X_train, axis=0)\n",
    "std = np.std(X_train, axis=0)\n",
    "std_filled = std.copy()\n",
    "std_filled[std==0] = 1.\n",
    "\n",
    "X_train = (X_train - mu)/std_filled \n",
    "X_test =  (X_test - mu)/std_filled \n",
    "Y_train = Y_train.astype(np.int32)\n",
    "Y_test = Y_test.astype(np.int32)\n"
   ]
  },
  {
   "cell_type": "markdown",
   "metadata": {},
   "source": [
    "### One-hot representation"
   ]
  },
  {
   "cell_type": "code",
   "execution_count": 5,
   "metadata": {},
   "outputs": [],
   "source": [
    "Y_train = tf.keras.utils.to_categorical(Y_train, 10)\n",
    "Y_test = tf.keras.utils.to_categorical(Y_test, 10)"
   ]
  },
  {
   "cell_type": "markdown",
   "metadata": {},
   "source": [
    "### Due memory allocation issues, I use a subset of trainig data"
   ]
  },
  {
   "cell_type": "code",
   "execution_count": 6,
   "metadata": {},
   "outputs": [
    {
     "name": "stdout",
     "output_type": "stream",
     "text": [
      "X: (10000, 784)\n",
      "Y: (10000, 10)\n"
     ]
    }
   ],
   "source": [
    "X = X_train[0:10000,:]\n",
    "Y = Y_train[0:10000,:]\n",
    "\n",
    "print(\"X: \" + str(X.shape))\n",
    "print(\"Y: \" + str(Y.shape))"
   ]
  },
  {
   "cell_type": "code",
   "execution_count": 7,
   "metadata": {},
   "outputs": [],
   "source": [
    "def show_sample(X, Y, index):\n",
    "\timage = np.reshape(X[index], (28, 28))\n",
    "\tlabels = Y[index]\n",
    "\tprint (\"Number: \" + str(np.argmax(labels)))\n",
    "\tplt.imshow(image)\n",
    "\tplt.show()"
   ]
  },
  {
   "cell_type": "code",
   "execution_count": 8,
   "metadata": {},
   "outputs": [
    {
     "name": "stdout",
     "output_type": "stream",
     "text": [
      "Number: 3\n"
     ]
    },
    {
     "data": {
      "image/png": "[encoded data removed]",
      "text/plain": [
       "<Figure size 432x288 with 1 Axes>"
      ]
     },
     "metadata": {
      "needs_background": "light"
     },
     "output_type": "display_data"
    }
   ],
   "source": [
    "show_sample(X, Y, 12)"
   ]
  },
  {
   "cell_type": "markdown",
   "metadata": {},
   "source": [
    "### Compute the Covariance Matrix"
   ]
  },
  {
   "cell_type": "code",
   "execution_count": 9,
   "metadata": {},
   "outputs": [
    {
     "name": "stdout",
     "output_type": "stream",
     "text": [
      "Covariance Matrix: (784, 784)\n"
     ]
    }
   ],
   "source": [
    "S = np.cov(X, rowvar=False, bias=True)\n",
    "print(\"Covariance Matrix: \" + str(S.shape))"
   ]
  },
  {
   "cell_type": "markdown",
   "metadata": {},
   "source": [
    "### Compute Eigenvalues and Eigenvectors from Covariance Matrix"
   ]
  },
  {
   "cell_type": "code",
   "execution_count": 10,
   "metadata": {},
   "outputs": [],
   "source": [
    "eigenvalues, eigenvectors = np.linalg.eigh(S)"
   ]
  },
  {
   "cell_type": "code",
   "execution_count": 11,
   "metadata": {},
   "outputs": [
    {
     "name": "stdout",
     "output_type": "stream",
     "text": [
      "eigenvalues: (784,)\n",
      "eigenvectors: (784, 784)\n"
     ]
    }
   ],
   "source": [
    "print(\"eigenvalues: \" + str(eigenvalues.shape))\n",
    "print(\"eigenvectors: \" + str(eigenvectors.shape))"
   ]
  },
  {
   "cell_type": "markdown",
   "metadata": {},
   "source": [
    "### Sort Eigenvalues and Eigenvectors descending"
   ]
  },
  {
   "cell_type": "code",
   "execution_count": 12,
   "metadata": {},
   "outputs": [],
   "source": [
    "idx = eigenvalues.argsort()[::-1]\n",
    "eigenvalues = eigenvalues[idx]\n",
    "eigenvectors = eigenvectors[:,idx]"
   ]
  },
  {
   "cell_type": "markdown",
   "metadata": {},
   "source": [
    "### Top 5 Eigenvalues"
   ]
  },
  {
   "cell_type": "code",
   "execution_count": 13,
   "metadata": {},
   "outputs": [
    {
     "data": {
      "text/plain": [
       "array([41.78120314, 29.45550917, 26.7695854 , 20.81306758, 18.28510341])"
      ]
     },
     "execution_count": 13,
     "metadata": {},
     "output_type": "execute_result"
    }
   ],
   "source": [
    "eigenvalues[0:5]"
   ]
  },
  {
   "cell_type": "markdown",
   "metadata": {},
   "source": [
    "### Take Principal Components"
   ]
  },
  {
   "cell_type": "code",
   "execution_count": 14,
   "metadata": {},
   "outputs": [
    {
     "name": "stdout",
     "output_type": "stream",
     "text": [
      "B: (784, 20)\n"
     ]
    }
   ],
   "source": [
    "num_components = 20\n",
    "B = eigenvectors[:,:num_components] # futures vector\n",
    "print(\"B: \" + str(B.shape))\n"
   ]
  },
  {
   "cell_type": "markdown",
   "metadata": {},
   "source": [
    "### Reduced data"
   ]
  },
  {
   "cell_type": "code",
   "execution_count": 15,
   "metadata": {},
   "outputs": [
    {
     "name": "stdout",
     "output_type": "stream",
     "text": [
      "X_reduced: (10000, 20)\n"
     ]
    }
   ],
   "source": [
    "X_reduced = X@B\n",
    "print(\"X_reduced: \" + str(X_reduced.shape))\n"
   ]
  },
  {
   "cell_type": "markdown",
   "metadata": {},
   "source": [
    "### Compute the projection matrix"
   ]
  },
  {
   "cell_type": "code",
   "execution_count": 16,
   "metadata": {},
   "outputs": [
    {
     "name": "stdout",
     "output_type": "stream",
     "text": [
      "P: (784, 784)\n"
     ]
    }
   ],
   "source": [
    "P = B@(np.linalg.inv(B.T@B))@B.T\n",
    "print(\"P: \" + str(P.shape))"
   ]
  },
  {
   "cell_type": "markdown",
   "metadata": {},
   "source": [
    "### Reconstruct the data"
   ]
  },
  {
   "cell_type": "code",
   "execution_count": 17,
   "metadata": {},
   "outputs": [
    {
     "name": "stdout",
     "output_type": "stream",
     "text": [
      "X_reconstructed: (10000, 784)\n"
     ]
    }
   ],
   "source": [
    "X_reconstructed = (P@X.T).T\n",
    "print(\"X_reconstructed: \" + str(X_reconstructed.shape))"
   ]
  },
  {
   "cell_type": "code",
   "execution_count": 18,
   "metadata": {},
   "outputs": [
    {
     "name": "stdout",
     "output_type": "stream",
     "text": [
      "Number: 3\n"
     ]
    },
    {
     "data": {
      "image/png": "[encoded data removed]",
      "text/plain": [
       "<Figure size 432x288 with 1 Axes>"
      ]
     },
     "metadata": {
      "needs_background": "light"
     },
     "output_type": "display_data"
    }
   ],
   "source": [
    "show_sample(X_reconstructed, Y, 12)"
   ]
  },
  {
   "cell_type": "markdown",
   "metadata": {},
   "source": [
    "### PCA using sklearn"
   ]
  },
  {
   "cell_type": "code",
   "execution_count": 19,
   "metadata": {},
   "outputs": [
    {
     "name": "stdout",
     "output_type": "stream",
     "text": [
      "sklearn_reduced: (10000, 20)\n",
      "sklearn_reconst: (10000, 784)\n"
     ]
    }
   ],
   "source": [
    "\n",
    "pca = SKPCA(n_components=num_components, svd_solver='full')\n",
    "sklearn_reduced = pca.fit_transform(X)\n",
    "sklearn_reconst = pca.inverse_transform(sklearn_reduced)\n",
    "print(\"sklearn_reduced: \" + str(sklearn_reduced.shape))\n",
    "print(\"sklearn_reconst: \" + str(sklearn_reconst.shape))\n",
    "#np.testing.assert_almost_equal(sklearn_reconst, X_reconstructed)\n"
   ]
  },
  {
   "cell_type": "code",
   "execution_count": 20,
   "metadata": {},
   "outputs": [
    {
     "name": "stdout",
     "output_type": "stream",
     "text": [
      "Number: 3\n"
     ]
    },
    {
     "data": {
      "image/png": "[encoded data removed]",
      "text/plain": [
       "<Figure size 432x288 with 1 Axes>"
      ]
     },
     "metadata": {
      "needs_background": "light"
     },
     "output_type": "display_data"
    }
   ],
   "source": [
    "show_sample(sklearn_reconst, Y, 12)"
   ]
  },
  {
   "cell_type": "markdown",
   "metadata": {},
   "source": [
    "### Create the Model"
   ]
  },
  {
   "cell_type": "code",
   "execution_count": 21,
   "metadata": {},
   "outputs": [],
   "source": [
    "def create_model(features, classes):\n",
    "    model = keras.Sequential()\n",
    "    model.add(keras.Input(shape=(features, ), name='input'))\n",
    "    model.add(keras.layers.Dense(32, activation='relu', name='h1'))\n",
    "    model.add(keras.layers.Dense(32, activation='relu', name='h2'))\n",
    "    model.add(keras.layers.Dense(classes, activation='softmax', name='output'))\n",
    "\n",
    "    return model\n"
   ]
  },
  {
   "cell_type": "code",
   "execution_count": 22,
   "metadata": {},
   "outputs": [
    {
     "name": "stdout",
     "output_type": "stream",
     "text": [
      "WARNING:tensorflow:Please add `keras.layers.InputLayer` instead of `keras.Input` to Sequential model. `keras.Input` is intended to be used by Functional model.\n",
      "Model: \"sequential\"\n",
      "_________________________________________________________________\n",
      "Layer (type)                 Output Shape              Param #   \n",
      "=================================================================\n",
      "h1 (Dense)                   (None, 32)                672       \n",
      "_________________________________________________________________\n",
      "h2 (Dense)                   (None, 32)                1056      \n",
      "_________________________________________________________________\n",
      "output (Dense)               (None, 10)                330       \n",
      "=================================================================\n",
      "Total params: 2,058\n",
      "Trainable params: 2,058\n",
      "Non-trainable params: 0\n",
      "_________________________________________________________________\n"
     ]
    }
   ],
   "source": [
    "model = create_model(num_components, 10)\n",
    "model.summary()"
   ]
  },
  {
   "cell_type": "markdown",
   "metadata": {},
   "source": [
    "### Train the Model"
   ]
  },
  {
   "cell_type": "code",
   "execution_count": 23,
   "metadata": {},
   "outputs": [
    {
     "name": "stdout",
     "output_type": "stream",
     "text": [
      "Epoch 1/50\n",
      "63/63 [==============================] - 1s 3ms/step - loss: 1.7314 - accuracy: 0.4550 - val_loss: 1.0910 - val_accuracy: 0.7090\n",
      "Epoch 2/50\n",
      "63/63 [==============================] - 0s 1ms/step - loss: 0.8280 - accuracy: 0.7706 - val_loss: 0.7256 - val_accuracy: 0.7995\n",
      "Epoch 3/50\n",
      "63/63 [==============================] - 0s 2ms/step - loss: 0.5765 - accuracy: 0.8336 - val_loss: 0.6126 - val_accuracy: 0.8340\n",
      "Epoch 4/50\n",
      "63/63 [==============================] - 0s 2ms/step - loss: 0.4733 - accuracy: 0.8590 - val_loss: 0.5541 - val_accuracy: 0.8525\n",
      "Epoch 5/50\n",
      "63/63 [==============================] - 0s 1ms/step - loss: 0.4147 - accuracy: 0.8742 - val_loss: 0.5096 - val_accuracy: 0.8635\n",
      "Epoch 6/50\n",
      "63/63 [==============================] - 0s 2ms/step - loss: 0.3751 - accuracy: 0.8849 - val_loss: 0.4961 - val_accuracy: 0.8615\n",
      "Epoch 7/50\n",
      "63/63 [==============================] - 0s 1ms/step - loss: 0.3459 - accuracy: 0.8951 - val_loss: 0.4680 - val_accuracy: 0.8705\n",
      "Epoch 8/50\n",
      "63/63 [==============================] - 0s 2ms/step - loss: 0.3246 - accuracy: 0.9006 - val_loss: 0.4495 - val_accuracy: 0.8780\n",
      "Epoch 9/50\n",
      "63/63 [==============================] - 0s 1ms/step - loss: 0.3057 - accuracy: 0.9062 - val_loss: 0.4373 - val_accuracy: 0.8795\n",
      "Epoch 10/50\n",
      "63/63 [==============================] - 0s 2ms/step - loss: 0.2921 - accuracy: 0.9112 - val_loss: 0.4288 - val_accuracy: 0.8815\n",
      "Epoch 11/50\n",
      "63/63 [==============================] - 0s 1ms/step - loss: 0.2791 - accuracy: 0.9147 - val_loss: 0.4136 - val_accuracy: 0.8810\n",
      "Epoch 12/50\n",
      "63/63 [==============================] - 0s 1ms/step - loss: 0.2677 - accuracy: 0.9183 - val_loss: 0.4026 - val_accuracy: 0.8865\n",
      "Epoch 13/50\n",
      "63/63 [==============================] - 0s 1ms/step - loss: 0.2564 - accuracy: 0.9218 - val_loss: 0.3963 - val_accuracy: 0.8875\n",
      "Epoch 14/50\n",
      "63/63 [==============================] - 0s 1ms/step - loss: 0.2493 - accuracy: 0.9241 - val_loss: 0.3900 - val_accuracy: 0.8925\n",
      "Epoch 15/50\n",
      "63/63 [==============================] - 0s 2ms/step - loss: 0.2419 - accuracy: 0.9264 - val_loss: 0.3807 - val_accuracy: 0.8935\n",
      "Epoch 16/50\n",
      "63/63 [==============================] - 0s 2ms/step - loss: 0.2351 - accuracy: 0.9281 - val_loss: 0.3781 - val_accuracy: 0.8950\n",
      "Epoch 17/50\n",
      "63/63 [==============================] - 0s 1ms/step - loss: 0.2295 - accuracy: 0.9315 - val_loss: 0.3799 - val_accuracy: 0.8965\n",
      "Epoch 18/50\n",
      "63/63 [==============================] - 0s 2ms/step - loss: 0.2226 - accuracy: 0.9329 - val_loss: 0.3752 - val_accuracy: 0.8970\n",
      "Epoch 19/50\n",
      "63/63 [==============================] - 0s 1ms/step - loss: 0.2174 - accuracy: 0.9337 - val_loss: 0.3721 - val_accuracy: 0.8975\n",
      "Epoch 20/50\n",
      "63/63 [==============================] - 0s 1ms/step - loss: 0.2131 - accuracy: 0.9358 - val_loss: 0.3763 - val_accuracy: 0.8975\n",
      "Epoch 21/50\n",
      "63/63 [==============================] - 0s 1ms/step - loss: 0.2085 - accuracy: 0.9362 - val_loss: 0.3690 - val_accuracy: 0.9000\n",
      "Epoch 22/50\n",
      "63/63 [==============================] - 0s 2ms/step - loss: 0.2038 - accuracy: 0.9377 - val_loss: 0.3772 - val_accuracy: 0.8995\n",
      "Epoch 23/50\n",
      "63/63 [==============================] - 0s 1ms/step - loss: 0.1996 - accuracy: 0.9396 - val_loss: 0.3681 - val_accuracy: 0.8990\n",
      "Epoch 24/50\n",
      "63/63 [==============================] - 0s 1ms/step - loss: 0.1955 - accuracy: 0.9398 - val_loss: 0.3708 - val_accuracy: 0.9045\n",
      "Epoch 25/50\n",
      "63/63 [==============================] - 0s 1ms/step - loss: 0.1917 - accuracy: 0.9416 - val_loss: 0.3727 - val_accuracy: 0.8990\n",
      "Epoch 26/50\n",
      "63/63 [==============================] - 0s 1ms/step - loss: 0.1892 - accuracy: 0.9419 - val_loss: 0.3722 - val_accuracy: 0.9010\n",
      "Epoch 27/50\n",
      "63/63 [==============================] - 0s 1ms/step - loss: 0.1855 - accuracy: 0.9442 - val_loss: 0.3669 - val_accuracy: 0.9010\n",
      "Epoch 28/50\n",
      "63/63 [==============================] - 0s 1ms/step - loss: 0.1817 - accuracy: 0.9444 - val_loss: 0.3694 - val_accuracy: 0.9015\n",
      "Epoch 29/50\n",
      "63/63 [==============================] - 0s 1ms/step - loss: 0.1793 - accuracy: 0.9455 - val_loss: 0.3625 - val_accuracy: 0.9050\n",
      "Epoch 30/50\n",
      "63/63 [==============================] - 0s 1ms/step - loss: 0.1754 - accuracy: 0.9448 - val_loss: 0.3718 - val_accuracy: 0.9015\n",
      "Epoch 31/50\n",
      "63/63 [==============================] - 0s 2ms/step - loss: 0.1728 - accuracy: 0.9475 - val_loss: 0.3778 - val_accuracy: 0.9005\n",
      "Epoch 32/50\n",
      "63/63 [==============================] - 0s 2ms/step - loss: 0.1702 - accuracy: 0.9498 - val_loss: 0.3613 - val_accuracy: 0.9075\n",
      "Epoch 33/50\n",
      "63/63 [==============================] - 0s 1ms/step - loss: 0.1688 - accuracy: 0.9456 - val_loss: 0.3638 - val_accuracy: 0.9045\n",
      "Epoch 34/50\n",
      "63/63 [==============================] - 0s 2ms/step - loss: 0.1657 - accuracy: 0.9477 - val_loss: 0.3658 - val_accuracy: 0.9025\n",
      "Epoch 35/50\n",
      "63/63 [==============================] - 0s 1ms/step - loss: 0.1630 - accuracy: 0.9488 - val_loss: 0.3667 - val_accuracy: 0.9035\n",
      "Epoch 36/50\n",
      "63/63 [==============================] - 0s 1ms/step - loss: 0.1614 - accuracy: 0.9492 - val_loss: 0.3630 - val_accuracy: 0.9040\n",
      "Epoch 37/50\n",
      "63/63 [==============================] - 0s 1ms/step - loss: 0.1588 - accuracy: 0.9515 - val_loss: 0.3692 - val_accuracy: 0.9055\n",
      "Epoch 38/50\n",
      "63/63 [==============================] - 0s 1ms/step - loss: 0.1576 - accuracy: 0.9505 - val_loss: 0.3633 - val_accuracy: 0.9060\n",
      "Epoch 39/50\n",
      "63/63 [==============================] - 0s 2ms/step - loss: 0.1553 - accuracy: 0.9525 - val_loss: 0.3620 - val_accuracy: 0.9105\n",
      "Epoch 40/50\n",
      "63/63 [==============================] - 0s 1ms/step - loss: 0.1531 - accuracy: 0.9534 - val_loss: 0.3606 - val_accuracy: 0.9070\n",
      "Epoch 41/50\n",
      "63/63 [==============================] - 0s 2ms/step - loss: 0.1502 - accuracy: 0.9536 - val_loss: 0.3677 - val_accuracy: 0.9035\n",
      "Epoch 42/50\n",
      "63/63 [==============================] - 0s 2ms/step - loss: 0.1492 - accuracy: 0.9538 - val_loss: 0.3608 - val_accuracy: 0.9075\n",
      "Epoch 43/50\n",
      "63/63 [==============================] - 0s 2ms/step - loss: 0.1474 - accuracy: 0.9554 - val_loss: 0.3544 - val_accuracy: 0.9070\n",
      "Epoch 44/50\n",
      "63/63 [==============================] - 0s 2ms/step - loss: 0.1451 - accuracy: 0.9555 - val_loss: 0.3665 - val_accuracy: 0.9055\n",
      "Epoch 45/50\n",
      "63/63 [==============================] - 0s 2ms/step - loss: 0.1445 - accuracy: 0.9554 - val_loss: 0.3511 - val_accuracy: 0.9120\n",
      "Epoch 46/50\n",
      "63/63 [==============================] - 0s 1ms/step - loss: 0.1418 - accuracy: 0.9565 - val_loss: 0.3554 - val_accuracy: 0.9100\n",
      "Epoch 47/50\n",
      "63/63 [==============================] - 0s 2ms/step - loss: 0.1403 - accuracy: 0.9569 - val_loss: 0.3589 - val_accuracy: 0.9080\n",
      "Epoch 48/50\n",
      "63/63 [==============================] - 0s 2ms/step - loss: 0.1388 - accuracy: 0.9576 - val_loss: 0.3621 - val_accuracy: 0.9110\n",
      "Epoch 49/50\n",
      "63/63 [==============================] - 0s 2ms/step - loss: 0.1384 - accuracy: 0.9565 - val_loss: 0.3536 - val_accuracy: 0.9100\n",
      "Epoch 50/50\n",
      "63/63 [==============================] - 0s 2ms/step - loss: 0.1357 - accuracy: 0.9571 - val_loss: 0.3672 - val_accuracy: 0.9035\n"
     ]
    }
   ],
   "source": [
    "model.compile(\n",
    "    loss='categorical_crossentropy',\n",
    "    optimizer = tf.keras.optimizers.RMSprop(),\n",
    "    metrics=['accuracy']\n",
    ")\n",
    "\n",
    "history = model.fit(\n",
    "    X_reduced, \n",
    "    Y, \n",
    "    batch_size=128, \n",
    "    epochs=50, \n",
    "    validation_split=0.2, \n",
    "    verbose=1)"
   ]
  },
  {
   "cell_type": "markdown",
   "metadata": {},
   "source": [
    "### Plot"
   ]
  },
  {
   "cell_type": "code",
   "execution_count": 24,
   "metadata": {},
   "outputs": [
    {
     "data": {
      "image/png": "[encoded data removed]",
      "text/plain": [
       "<Figure size 432x288 with 1 Axes>"
      ]
     },
     "metadata": {
      "needs_background": "light"
     },
     "output_type": "display_data"
    },
    {
     "data": {
      "image/png": "[encoded data removed]",
      "text/plain": [
       "<Figure size 432x288 with 1 Axes>"
      ]
     },
     "metadata": {
      "needs_background": "light"
     },
     "output_type": "display_data"
    }
   ],
   "source": [
    "plt.plot(history.history['accuracy'],label='training accuracy')\n",
    "plt.plot(history.history['val_accuracy'],label='validation accuracy')\n",
    "plt.xlabel('epochs')\n",
    "plt.ylabel('accuracy')\n",
    "plt.legend()\n",
    "plt.show()\n",
    "\n",
    "plt.plot(history.history['loss'],label='training loss')\n",
    "plt.plot(history.history['val_loss'],label='validation loss')\n",
    "plt.xlabel('epochs')\n",
    "plt.ylabel('loss')\n",
    "plt.legend()\n",
    "plt.show()"
   ]
  },
  {
   "cell_type": "markdown",
   "metadata": {},
   "source": [
    "### Evaluate"
   ]
  },
  {
   "cell_type": "code",
   "execution_count": 25,
   "metadata": {},
   "outputs": [
    {
     "name": "stdout",
     "output_type": "stream",
     "text": [
      "79/79 [==============================] - 0s 1ms/step - loss: 0.2831 - accuracy: 0.9199\n",
      "Test score:  0.2831379175186157\n",
      "Test accuracy:  0.9199000000953674\n"
     ]
    }
   ],
   "source": [
    "X_test_reduced = X_test@B\n",
    "score = model.evaluate(X_test_reduced, Y_test, batch_size=128, verbose=1)\n",
    "\n",
    "print(\"Test score: \", score[0])\n",
    "print(\"Test accuracy: \", score[1])"
   ]
  },
  {
   "cell_type": "markdown",
   "metadata": {},
   "source": [
    "### Make a prefiction"
   ]
  },
  {
   "cell_type": "code",
   "execution_count": 26,
   "metadata": {},
   "outputs": [
    {
     "name": "stdout",
     "output_type": "stream",
     "text": [
      "Prediction:  9\n",
      "Expected:  9\n"
     ]
    }
   ],
   "source": [
    "index = 454\n",
    "test = np.reshape(X_test_reduced[index], (1, num_components))\n",
    "prediction = model.predict(test)\n",
    "expected = Y_test[index]\n",
    "\n",
    "print(\"Prediction: \", np.argmax(prediction))\n",
    "print(\"Expected: \", np.argmax(expected))"
   ]
  }
 ],
 "metadata": {
  "interpreter": {
   "hash": "1c48d435e47ba5d5a932a530ddeb248c9baa0081132f1819dcaeedbf0fcd2e46"
  },
  "kernelspec": {
   "display_name": "",
   "language": "python",
   "name": "python3"
  },
  "language_info": {
   "codemirror_mode": {
    "name": "ipython",
    "version": 3
   },
   "file_extension": ".py",
   "mimetype": "text/x-python",
   "name": "python",
   "nbconvert_exporter": "python",
   "pygments_lexer": "ipython3",
   "version": "3.7.3"
  },
  "orig_nbformat": 4
 },
 "nbformat": 4,
 "nbformat_minor": 2
}
